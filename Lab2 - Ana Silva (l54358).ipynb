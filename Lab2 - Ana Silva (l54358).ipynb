{
 "cells": [
  {
   "cell_type": "markdown",
   "metadata": {},
   "source": [
    "# Lab 2"
   ]
  },
  {
   "cell_type": "markdown",
   "metadata": {},
   "source": [
    "1) Construct a list (shoppingList) including 'potatoes', 'carrots', 'cod' and 'sprouts’"
   ]
  },
  {
   "cell_type": "code",
   "execution_count": 24,
   "metadata": {},
   "outputs": [
    {
     "name": "stdout",
     "output_type": "stream",
     "text": [
      "['potatoes', 'carrots', 'cod', 'sprouts']\n"
     ]
    }
   ],
   "source": [
    "shoppingList = list (('potatoes', 'carrots', 'cod', 'sprouts'))\n",
    "print(shoppingList)"
   ]
  },
  {
   "cell_type": "markdown",
   "metadata": {},
   "source": [
    "2) Get the second and the last element of the list"
   ]
  },
  {
   "cell_type": "code",
   "execution_count": 25,
   "metadata": {},
   "outputs": [
    {
     "name": "stdout",
     "output_type": "stream",
     "text": [
      "carrots sprouts\n"
     ]
    }
   ],
   "source": [
    "print (shoppingList[1], shoppingList[-1])"
   ]
  },
  {
   "cell_type": "markdown",
   "metadata": {},
   "source": [
    "3) Iterate though the list in order that the users see the following list of phrases: \"We should eate sprouts\", \"We should eate carrots\"..."
   ]
  },
  {
   "cell_type": "code",
   "execution_count": 26,
   "metadata": {},
   "outputs": [
    {
     "name": "stdout",
     "output_type": "stream",
     "text": [
      "We should eat potatoes\n",
      "We should eat carrots\n",
      "We should eat cod\n",
      "We should eat sprouts\n"
     ]
    }
   ],
   "source": [
    "for i in range(len(shoppingList)):\n",
    "    print(\"We should eat \" + shoppingList[i])"
   ]
  },
  {
   "cell_type": "markdown",
   "metadata": {},
   "source": [
    "4) Add the follwoing elements to the shoppingList: orange and lime"
   ]
  },
  {
   "cell_type": "code",
   "execution_count": 27,
   "metadata": {},
   "outputs": [
    {
     "name": "stdout",
     "output_type": "stream",
     "text": [
      "['potatoes', 'carrots', 'cod', 'sprouts', 'orange', 'lime']\n"
     ]
    }
   ],
   "source": [
    "shoppingList.append('orange')\n",
    "shoppingList.append('lime')\n",
    "print (shoppingList)"
   ]
  },
  {
   "cell_type": "markdown",
   "metadata": {},
   "source": [
    "5) Remove the carrots, the first element and last element of the shoppingList list"
   ]
  },
  {
   "cell_type": "code",
   "execution_count": 28,
   "metadata": {},
   "outputs": [
    {
     "name": "stdout",
     "output_type": "stream",
     "text": [
      "['cod', 'sprouts', 'orange']\n"
     ]
    }
   ],
   "source": [
    "shoppingList.remove('carrots')\n",
    "del shoppingList [0]\n",
    "del shoppingList [-1]\n",
    "print(shoppingList)"
   ]
  },
  {
   "cell_type": "markdown",
   "metadata": {},
   "source": [
    "6) How many fruits are there in the shopping list"
   ]
  },
  {
   "cell_type": "code",
   "execution_count": 29,
   "metadata": {},
   "outputs": [
    {
     "name": "stdout",
     "output_type": "stream",
     "text": [
      "There are 1 fruits on the list.\n"
     ]
    }
   ],
   "source": [
    "fruit = {1: 'orange', 2: 'apple', 3: 'pear', 4: 'grape', 5: 'peach', 6: 'lime', 7: 'banana', 8: 'pineapple', 9: 'mango', 10: 'strawberry'}\n",
    "fruitNo = 0\n",
    "for i in range(len(shoppingList)):\n",
    "    for value in fruit.values():\n",
    "        if shoppingList[i] == value:\n",
    "            fruitNo = fruitNo + 1\n",
    "print('There are '+str(fruitNo)+' fruits on the list.')"
   ]
  },
  {
   "cell_type": "markdown",
   "metadata": {},
   "source": [
    "7) Obtain the first 3 elements of the list"
   ]
  },
  {
   "cell_type": "code",
   "execution_count": 30,
   "metadata": {},
   "outputs": [
    {
     "name": "stdout",
     "output_type": "stream",
     "text": [
      "['cod', 'sprouts', 'orange']\n"
     ]
    }
   ],
   "source": [
    "firstThree = shoppingList [: 3]\n",
    "print (firstThree)"
   ]
  },
  {
   "cell_type": "markdown",
   "metadata": {},
   "source": [
    "8) Add the movie \"Ananas\" in the 3th position"
   ]
  },
  {
   "cell_type": "code",
   "execution_count": 31,
   "metadata": {},
   "outputs": [
    {
     "name": "stdout",
     "output_type": "stream",
     "text": [
      "['cod', 'sprouts', 'Ananas', 'orange']\n"
     ]
    }
   ],
   "source": [
    "shoppingList.insert(2,\"Ananas\")\n",
    "print (shoppingList)"
   ]
  },
  {
   "cell_type": "markdown",
   "metadata": {},
   "source": [
    "9) Reverse the list"
   ]
  },
  {
   "cell_type": "code",
   "execution_count": 32,
   "metadata": {},
   "outputs": [
    {
     "name": "stdout",
     "output_type": "stream",
     "text": [
      "['orange', 'Ananas', 'sprouts', 'cod']\n"
     ]
    }
   ],
   "source": [
    "list.reverse(shoppingList)\n",
    "print(shoppingList)"
   ]
  },
  {
   "cell_type": "markdown",
   "metadata": {},
   "source": [
    "10) Sort the list"
   ]
  },
  {
   "cell_type": "code",
   "execution_count": 33,
   "metadata": {},
   "outputs": [
    {
     "name": "stdout",
     "output_type": "stream",
     "text": [
      "Sorted list: ['Ananas', 'cod', 'orange', 'sprouts']\n"
     ]
    }
   ],
   "source": [
    "shoppingList.sort()\n",
    "print('Sorted list:', shoppingList)"
   ]
  },
  {
   "cell_type": "markdown",
   "metadata": {},
   "source": [
    "11) What is the result of\n",
    "\n",
    "shopping = shoppingList\n",
    "\n",
    "shoppingListCopy = shoppingList[:]\n",
    "\n",
    "print(shopping)\n",
    "\n",
    "Why?"
   ]
  },
  {
   "cell_type": "code",
   "execution_count": 34,
   "metadata": {},
   "outputs": [
    {
     "name": "stdout",
     "output_type": "stream",
     "text": [
      "['Ananas', 'cod', 'orange', 'sprouts']\n"
     ]
    }
   ],
   "source": [
    "shopping = shoppingList\n",
    "\n",
    "shoppingListCopy = shoppingList[:]\n",
    "\n",
    "print(shopping)"
   ]
  },
  {
   "cell_type": "code",
   "execution_count": 35,
   "metadata": {},
   "outputs": [],
   "source": [
    "# the output of shopping is the same that the output of shoppingList due to the fact that shopping and shoppingList are the same list."
   ]
  },
  {
   "cell_type": "markdown",
   "metadata": {},
   "source": [
    "12) What is the result of\n",
    "\n",
    "shopping = shoppingList\n",
    "\n",
    "shoppingList.append(\"orange\")\n",
    "\n",
    "print(shopping)\n",
    "\n",
    "Why?"
   ]
  },
  {
   "cell_type": "code",
   "execution_count": 36,
   "metadata": {},
   "outputs": [
    {
     "name": "stdout",
     "output_type": "stream",
     "text": [
      "['Ananas', 'cod', 'orange', 'sprouts', 'orange']\n"
     ]
    }
   ],
   "source": [
    "shopping = shoppingList\n",
    "\n",
    "shoppingList.append(\"orange\")\n",
    "\n",
    "print(shopping)"
   ]
  },
  {
   "cell_type": "code",
   "execution_count": 37,
   "metadata": {},
   "outputs": [],
   "source": [
    "#As shopping and shoppingList are the same list, modifications in shoppingList will be visible when printing shopping. This is different than copying the elements from one list to another as we did in the second line of the previous exercise; in that case, if we were to now print shoppingListCopy, we would not see orange as an element because it stayed an independent list from shoppingList."
   ]
  },
  {
   "cell_type": "markdown",
   "metadata": {},
   "source": [
    "13) romove all the items from the shoppingList"
   ]
  },
  {
   "cell_type": "code",
   "execution_count": 38,
   "metadata": {},
   "outputs": [
    {
     "name": "stdout",
     "output_type": "stream",
     "text": [
      "[]\n"
     ]
    }
   ],
   "source": [
    "shoppingList.clear()\n",
    "print(shoppingList)"
   ]
  },
  {
   "cell_type": "markdown",
   "metadata": {},
   "source": [
    "14) What is the result of,\n",
    "\n",
    "newPurchases= (\"bananas\", \"beans\", \"rice\")\n",
    "\n",
    "print (newPurchases [1])\n",
    "\n",
    "newPurchases [0] = \"apple\"\n",
    "\n",
    "Why?"
   ]
  },
  {
   "cell_type": "code",
   "execution_count": 39,
   "metadata": {},
   "outputs": [
    {
     "name": "stdout",
     "output_type": "stream",
     "text": [
      "beans\n"
     ]
    },
    {
     "ename": "TypeError",
     "evalue": "'tuple' object does not support item assignment",
     "output_type": "error",
     "traceback": [
      "\u001b[1;31m---------------------------------------------------------------------------\u001b[0m",
      "\u001b[1;31mTypeError\u001b[0m                                 Traceback (most recent call last)",
      "\u001b[1;32m<ipython-input-39-1761a609b6a9>\u001b[0m in \u001b[0;36m<module>\u001b[1;34m\u001b[0m\n\u001b[0;32m      3\u001b[0m \u001b[0mprint\u001b[0m \u001b[1;33m(\u001b[0m\u001b[0mnewPurchases\u001b[0m \u001b[1;33m[\u001b[0m\u001b[1;36m1\u001b[0m\u001b[1;33m]\u001b[0m\u001b[1;33m)\u001b[0m\u001b[1;33m\u001b[0m\u001b[1;33m\u001b[0m\u001b[0m\n\u001b[0;32m      4\u001b[0m \u001b[1;33m\u001b[0m\u001b[0m\n\u001b[1;32m----> 5\u001b[1;33m \u001b[0mnewPurchases\u001b[0m\u001b[1;33m[\u001b[0m\u001b[1;36m0\u001b[0m\u001b[1;33m]\u001b[0m \u001b[1;33m=\u001b[0m \u001b[1;34m\"apple\"\u001b[0m\u001b[1;33m\u001b[0m\u001b[1;33m\u001b[0m\u001b[0m\n\u001b[0m",
      "\u001b[1;31mTypeError\u001b[0m: 'tuple' object does not support item assignment"
     ]
    }
   ],
   "source": [
    "newPurchases = (\"bananas\", \"beans\", \"rice\")\n",
    "\n",
    "print (newPurchases [1])\n",
    "\n",
    "newPurchases[0] = \"apple\""
   ]
  },
  {
   "cell_type": "code",
   "execution_count": 40,
   "metadata": {},
   "outputs": [],
   "source": [
    "# newPurchases is a tuple, that are identical to lists but are immutable. The error is caused because we are trying to modify an item of the tuple, and that isn't possible."
   ]
  },
  {
   "cell_type": "markdown",
   "metadata": {},
   "source": [
    "15) Create a dictionary including the follwoing elements: orange, apple, pear, grape and peach. Key are 1 to 5. Iterate through key-value pair. The result must be \"orange e number 1\"..."
   ]
  },
  {
   "cell_type": "code",
   "execution_count": 41,
   "metadata": {},
   "outputs": [
    {
     "name": "stdout",
     "output_type": "stream",
     "text": [
      "orange is number 1\n",
      "apple is number 2\n",
      "pear is number 3\n",
      "grape is number 4\n",
      "peach is number 5\n"
     ]
    }
   ],
   "source": [
    "fruitDictionary = {1: 'orange', 2: 'apple', 3: 'pear', 4: 'grape', 5: 'peach'}\n",
    "for key, value in fruitDictionary.items():\n",
    "    print(value + \" is number \" + str(key))\n",
    "        \n"
   ]
  },
  {
   "cell_type": "markdown",
   "metadata": {},
   "source": [
    "16) Create a weekList that is composed of several lists, each one corresponding to a day."
   ]
  },
  {
   "cell_type": "code",
   "execution_count": 42,
   "metadata": {},
   "outputs": [
    {
     "name": "stdout",
     "output_type": "stream",
     "text": [
      "[['bananas', 'beans', 'rice'], ['orange', 'apple', 'pear'], ['peach', 'grape', 'lime'], ['pineapple', 'mango', 'strawberry'], ['carrots', 'ginger', 'potatoes'], ['mushrooms', 'salad', 'tomatoes'], ['broccoli', 'cauliflower', 'pumpkins']]\n"
     ]
    }
   ],
   "source": [
    "Monday = ['bananas', 'beans', 'rice']\n",
    "Tuesday = ['orange', 'apple', 'pear']\n",
    "Wednesday = ['peach', 'grape', 'lime']\n",
    "Thursday = ['pineapple', 'mango', 'strawberry']\n",
    "Friday = ['carrots', 'ginger', 'potatoes']\n",
    "Saturday = ['mushrooms', 'salad', 'tomatoes']\n",
    "Sunday = ['broccoli', 'cauliflower', 'pumpkins']\n",
    "\n",
    "weekList = [Monday, Tuesday, Wednesday, Thursday, Friday, Saturday, Sunday]\n",
    "\n",
    "print(weekList)\n"
   ]
  },
  {
   "cell_type": "markdown",
   "metadata": {},
   "source": [
    "17) Delete the shoppingList list"
   ]
  },
  {
   "cell_type": "code",
   "execution_count": 43,
   "metadata": {},
   "outputs": [],
   "source": [
    "del shoppingList"
   ]
  },
  {
   "cell_type": "markdown",
   "metadata": {},
   "source": [
    "18) Create a list where x is belongs to a list of values from 1 to 100 and you want to generate a new list of y.\n",
    "\n",
    "y=3x^2 + 2x + 4"
   ]
  },
  {
   "cell_type": "code",
   "execution_count": 44,
   "metadata": {},
   "outputs": [
    {
     "name": "stdout",
     "output_type": "stream",
     "text": [
      "[9, 20, 37, 60, 89, 124, 165, 212, 265, 324, 389, 460, 537, 620, 709, 804, 905, 1012, 1125, 1244, 1369, 1500, 1637, 1780, 1929, 2084, 2245, 2412, 2585, 2764, 2949, 3140, 3337, 3540, 3749, 3964, 4185, 4412, 4645, 4884, 5129, 5380, 5637, 5900, 6169, 6444, 6725, 7012, 7305, 7604, 7909, 8220, 8537, 8860, 9189, 9524, 9865, 10212, 10565, 10924, 11289, 11660, 12037, 12420, 12809, 13204, 13605, 14012, 14425, 14844, 15269, 15700, 16137, 16580, 17029, 17484, 17945, 18412, 18885, 19364, 19849, 20340, 20837, 21340, 21849, 22364, 22885, 23412, 23945, 24484, 25029, 25580, 26137, 26700, 27269, 27844, 28425, 29012, 29605, 30204]\n"
     ]
    }
   ],
   "source": [
    "xValues = range(1,101)\n",
    "yResult = []\n",
    "for i in range(len(xValues)):\n",
    "    yResult.append(3*(xValues[i]**2)+2*xValues[i]+4)\n",
    "print(yResult)"
   ]
  }
 ],
 "metadata": {
  "kernelspec": {
   "display_name": "Python 3",
   "language": "python",
   "name": "python3"
  },
  "language_info": {
   "codemirror_mode": {
    "name": "ipython",
    "version": 3
   },
   "file_extension": ".py",
   "mimetype": "text/x-python",
   "name": "python",
   "nbconvert_exporter": "python",
   "pygments_lexer": "ipython3",
   "version": "3.8.3"
  }
 },
 "nbformat": 4,
 "nbformat_minor": 4
}
